{
 "cells": [
  {
   "cell_type": "markdown",
   "metadata": {},
   "source": [
    "# Exercise 0"
   ]
  },
  {
   "cell_type": "markdown",
   "metadata": {},
   "source": [
    "1\n"
   ]
  },
  {
   "cell_type": "code",
   "execution_count": null,
   "metadata": {},
   "outputs": [],
   "source": [
    "#1.a\n",
    "a= 3\n",
    "b= 4 \n",
    "c= math.sqrt(a**2+b**2)\n",
    "print (c)"
   ]
  },
  {
   "cell_type": "code",
   "execution_count": null,
   "metadata": {},
   "outputs": [],
   "source": [
    "#1.b\n",
    "c= 7\n",
    "a=5\n",
    "b=math.sqrt(c**2-a**2)\n",
    "print(format(b, \".2\"))\n"
   ]
  },
  {
   "cell_type": "markdown",
   "metadata": {},
   "source": [
    "2"
   ]
  },
  {
   "cell_type": "code",
   "execution_count": null,
   "metadata": {},
   "outputs": [],
   "source": [
    "\n",
    "#2\n",
    "p=365\n",
    "o=300\n",
    "q= (300/365)\n",
    "print (\"The accuracy is \", format(q, \".2%\"))\n"
   ]
  },
  {
   "cell_type": "markdown",
   "metadata": {},
   "source": [
    "3"
   ]
  },
  {
   "cell_type": "code",
   "execution_count": null,
   "metadata": {},
   "outputs": [],
   "source": [
    "\n",
    "#3\n",
    "tp=2\n",
    "fp=2\n",
    "fn=11\n",
    "tn=985\n",
    "accuracy = ((tp+tn)/(tp+tn+fp+fn))\n",
    "print (\"To calculate the accuracy this is a good model and the accuracy is\", accuracy)\n"
   ]
  },
  {
   "cell_type": "markdown",
   "metadata": {},
   "source": [
    "4"
   ]
  },
  {
   "cell_type": "code",
   "execution_count": null,
   "metadata": {},
   "outputs": [],
   "source": [
    "\n",
    "#4\n",
    "x1= 0\n",
    "x2= 4\n",
    "y1= 1\n",
    "y2= 4\n",
    "k= ((y2-y1)/(x2-x1))\n",
    "print(\"k value is\", k, \"\\nwhile using the k value lets plug one of the coordinates that being (4,4) into the function\")\n",
    "y=4\n",
    "x=4\n",
    "m=(y/x)\n",
    "print(\"The m value is\", m , )\n",
    "print (\"The function is y=\", k, \"x+\", m, sep=\"\")\n"
   ]
  },
  {
   "cell_type": "markdown",
   "metadata": {},
   "source": [
    "5"
   ]
  },
  {
   "cell_type": "code",
   "execution_count": null,
   "metadata": {},
   "outputs": [],
   "source": [
    "\n",
    "#5\n",
    "xp1 = 3\n",
    "xp2 = -2\n",
    "yp1 = 4\n",
    "yp2 = 5\n",
    "d = math.sqrt((xp1 - xp2)**2 + (yp1 - yp2)**2)\n",
    "print (format(d, \".2\"))\n"
   ]
  },
  {
   "cell_type": "markdown",
   "metadata": {},
   "source": [
    "6"
   ]
  },
  {
   "cell_type": "code",
   "execution_count": null,
   "metadata": {},
   "outputs": [],
   "source": [
    "\n",
    "#6\n",
    "l1= 2\n",
    "k2=1\n",
    "j3=4\n",
    "h1=3\n",
    "g2=1\n",
    "f3=0\n",
    "d= math.sqrt((l1-h1)**2+ (k2-g2)**2 + (j3-f3)**2)\n",
    "print (format(d, \".3\"))"
   ]
  }
 ],
 "metadata": {
  "language_info": {
   "name": "python"
  }
 },
 "nbformat": 4,
 "nbformat_minor": 2
}
